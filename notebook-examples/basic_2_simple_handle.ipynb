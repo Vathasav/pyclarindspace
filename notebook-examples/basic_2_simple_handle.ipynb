{
 "cells": [
  {
   "cell_type": "code",
   "execution_count": 2,
   "metadata": {},
   "outputs": [],
   "source": [
    "import clarindspace\n",
    "import logging\n",
    "from pprint import pformat\n",
    "from __future__ import print_function\n",
    "\n",
    "logging.basicConfig(format='%(asctime)s %(message)s', level=logging.INFO)"
   ]
  },
  {
   "cell_type": "code",
   "execution_count": 5,
   "metadata": {},
   "outputs": [
    {
     "name": "stderr",
     "output_type": "stream",
     "text": [
      "2017-05-05 13:17:25,240 Fetching metadata in CMDI format [http://hdl.handle.net/11346/TEST--HGGA@format=cmdi]\n"
     ]
    },
    {
     "name": "stdout",
     "output_type": "stream",
     "text": [
      "[{u'data': {u'format': u'string',\n",
      "            u'value': u'https://rda-summerschool.csc.fi/repository/xmlui/handle/1/4'},\n",
      "  u'index': 100,\n",
      "  u'permissions': u'1010',\n",
      "  u'timestamp': u'2017-05-01T09:46:21Z',\n",
      "  u'ttl': 100,\n",
      "  u'type': u'URL'},\n",
      " {u'data': {u'format': u'string',\n",
      "            u'value': u'Wind direction, Height 32 meters, Urban SMEAR tower'},\n",
      "  u'index': 11800,\n",
      "  u'permissions': u'1010',\n",
      "  u'timestamp': u'2017-05-01T09:46:21Z',\n",
      "  u'ttl': 100,\n",
      "  u'type': u'TITLE'},\n",
      " {u'data': {u'format': u'string',\n",
      "            u'value': u'LINDAT/CLARIN digital library at the Institute of Formal and Applied Linguistics, Charles University'},\n",
      "  u'index': 11801,\n",
      "  u'permissions': u'1010',\n",
      "  u'timestamp': u'2017-05-01T09:46:21Z',\n",
      "  u'ttl': 100,\n",
      "  u'type': u'REPOSITORY'},\n",
      " {u'data': {u'format': u'string', u'value': u'2017-05-01T09:46:21Z'},\n",
      "  u'index': 11802,\n",
      "  u'permissions': u'1010',\n",
      "  u'timestamp': u'2017-05-01T09:46:21Z',\n",
      "  u'ttl': 100,\n",
      "  u'type': u'SUBMITDATE'},\n",
      " {u'data': {u'format': u'string', u'value': u'misutka@ufal.mff.cuni.cz'},\n",
      "  u'index': 11803,\n",
      "  u'permissions': u'1010',\n",
      "  u'timestamp': u'2017-05-01T09:46:21Z',\n",
      "  u'ttl': 100,\n",
      "  u'type': u'REPORTEMAIL'},\n",
      " {u'data': {u'format': u'string',\n",
      "            u'value': u'Wind direction, Height 32 meters, Urban SMEAR tower'},\n",
      "  u'index': 11804,\n",
      "  u'permissions': u'1010',\n",
      "  u'timestamp': u'2017-05-01T09:46:21Z',\n",
      "  u'ttl': 100,\n",
      "  u'type': u'DATASETNAME'},\n",
      " {u'data': {u'format': u'string', u'value': u'1'},\n",
      "  u'index': 11805,\n",
      "  u'permissions': u'1010',\n",
      "  u'timestamp': u'2017-05-01T09:46:21Z',\n",
      "  u'ttl': 100,\n",
      "  u'type': u'DATASETVERSION'}]\n"
     ]
    },
    {
     "name": "stderr",
     "output_type": "stream",
     "text": [
      "2017-05-05 13:17:27,207 Found [2] bitstreams elements in ResourceProxy elements\n",
      "2017-05-05 13:17:27,207 Found\n",
      " 0. http://www.atm.helsinki.fi/SMEAR/ [text/html]\n",
      " 1. https://rda-summerschool.csc.fi/repository/xmlui/bitstream/handle/1/4/KUM_Tower_WDIR_32m_1min_2015.csv?sequence=1 [text/csv]\n"
     ]
    }
   ],
   "source": [
    "handle_url = \"http://hdl.handle.net/11346/TEST--HGGA\"\n",
    "# create the object\n",
    "h = clarindspace.handle(handle_url)\n",
    "# fetch metadata using handle.net api or use `handle_url`+\"?noredirect\" in your browser\n",
    "print(pformat(h.handle_metadata(True)))\n",
    "# get bitstream/mimetype info using specific metadata\n",
    "array_of_url_mime_type = clarindspace.item.bitstream_info_from_pid(handle_url)"
   ]
  }
 ],
 "metadata": {
  "kernelspec": {
   "display_name": "Python 2",
   "language": "python",
   "name": "python2"
  },
  "language_info": {
   "codemirror_mode": {
    "name": "ipython",
    "version": 2
   },
   "file_extension": ".py",
   "mimetype": "text/x-python",
   "name": "python",
   "nbconvert_exporter": "python",
   "pygments_lexer": "ipython2",
   "version": "2.7.8"
  }
 },
 "nbformat": 4,
 "nbformat_minor": 2
}
