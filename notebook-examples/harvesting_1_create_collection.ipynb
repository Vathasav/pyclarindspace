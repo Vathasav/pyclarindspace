{
 "cells": [
  {
   "cell_type": "code",
   "execution_count": 1,
   "metadata": {
    "collapsed": true
   },
   "outputs": [],
   "source": [
    "import os\n",
    "import json\n",
    "import logging\n",
    "from pprint import pformat\n",
    "from __future__ import print_function\n",
    "\n",
    "_env = json.load(open(\".env\", mode=\"r\")) if os.path.exists(\".env\") else {}\n",
    "logging.basicConfig(format='%(asctime)s %(message)s', level=logging.INFO)"
   ]
  },
  {
   "cell_type": "code",
   "execution_count": 2,
   "metadata": {
    "collapsed": true
   },
   "outputs": [],
   "source": [
    "# fill in your credentials\n",
    "REPO_URL = 'https://rda-summerschool.csc.fi/repository/'\n",
    "ADMIN_EMAIL = '' or _env[\"ADMIN_EMAIL\"]\n",
    "ADMIN_PASS = '' or _env[\"ADMIN_PASS\"]"
   ]
  },
  {
   "cell_type": "code",
   "execution_count": 3,
   "metadata": {},
   "outputs": [
    {
     "name": "stdout",
     "output_type": "stream",
     "text": [
      "0.2.0\n"
     ]
    }
   ],
   "source": [
    "import clarindspace\n",
    "print(clarindspace.__version__)"
   ]
  },
  {
   "cell_type": "code",
   "execution_count": 4,
   "metadata": {},
   "outputs": [
    {
     "name": "stderr",
     "output_type": "stream",
     "text": [
      "2017-05-05 12:13:27,974 User [test@summer] successfully logged in\n"
     ]
    },
    {
     "name": "stdout",
     "output_type": "stream",
     "text": [
      "{u'authenticated': True,\n",
      " u'email': u'test@summer',\n",
      " u'fullname': u'test@summer',\n",
      " u'okay': True}\n"
     ]
    }
   ],
   "source": [
    "repository = clarindspace.repository(REPO_URL)\n",
    "repository.login(ADMIN_EMAIL, ADMIN_PASS)\n",
    "\n",
    "ls = repository.login_status()\n",
    "del ls[\"token\"]\n",
    "print(pformat(ls))"
   ]
  },
  {
   "cell_type": "code",
   "execution_count": 5,
   "metadata": {},
   "outputs": [
    {
     "name": "stderr",
     "output_type": "stream",
     "text": [
      "2017-05-05 12:13:31,288 Community [test community [2017-05-05 12:13:30.914000]] not found\n",
      "2017-05-05 12:13:31,726 Created community with name [test community [2017-05-05 12:13:30.914000]] and id [6]\n"
     ]
    },
    {
     "name": "stdout",
     "output_type": "stream",
     "text": [
      "Community internal id: [6]\n"
     ]
    },
    {
     "name": "stderr",
     "output_type": "stream",
     "text": [
      "2017-05-05 12:13:32,630 Collection [test collection [2017-05-05 12:13:30.914000]] not found\n",
      "2017-05-05 12:13:33,029 Created collection with name [test collection [2017-05-05 12:13:30.914000]] and id [13]\n"
     ]
    },
    {
     "name": "stdout",
     "output_type": "stream",
     "text": [
      "Collection internal id: [13]\n"
     ]
    }
   ],
   "source": [
    "from datetime import datetime\n",
    "app = str(datetime.now())\n",
    "\n",
    "community_name = 'test community [%s]' % app\n",
    "community = repository.find_or_create_community(community_name)\n",
    "print(\"Community internal id: [%s]\" % community.id)\n",
    "\n",
    "collection_name = 'test collection [%s]' % app\n",
    "collection = community.find_or_create_collection(collection_name)\n",
    "print(\"Collection internal id: [%s]\" % collection.id)\n"
   ]
  },
  {
   "cell_type": "code",
   "execution_count": 6,
   "metadata": {
    "collapsed": true
   },
   "outputs": [],
   "source": [
    "item_metadata1 = [\n",
    "    {\"key\": \"dc.title\", \"value\": \"Item 1 through REST\", \"language\": None},\n",
    "    {\"key\": \"dc.contributor.author\", \"value\": \"Rest, Ful\", \"language\": None}\n",
    "]\n",
    "file_path = \"test_file.csv\"\n",
    "\n",
    "import csv\n",
    "with open(file_path, \"wb\") as f:\n",
    "    w = csv.DictWriter(f, fieldnames=['time', 'value'])\n",
    "    w.writeheader()\n",
    "    w.writerow({'time': datetime.now(), 'value': 10})"
   ]
  },
  {
   "cell_type": "code",
   "execution_count": 7,
   "metadata": {},
   "outputs": [
    {
     "name": "stderr",
     "output_type": "stream",
     "text": [
      "2017-05-05 12:13:44,486 Created item with name [Item 1 through REST] and id [3536]\n",
      "2017-05-05 12:13:45,187 Created bitstream with name [file.csv] and id [4]\n",
      "{u'bundleName': u'ORIGINAL',\n",
      " u'checkSum': {u'checkSumAlgorithm': u'MD5',\n",
      "               u'value': u'740568fd154f03c6488375fd52a48169'},\n",
      " u'expand': [u'parent', u'policies', u'all'],\n",
      " u'format': u'Unknown',\n",
      " u'id': 4,\n",
      " u'mimeType': u'application/octet-stream',\n",
      " u'name': u'file.csv',\n",
      " u'retrieveLink': u'/bitstreams/4/retrieve',\n",
      " u'sequenceId': -1,\n",
      " u'sizeBytes': 170,\n",
      " u'type': u'bitstream'}\n"
     ]
    }
   ],
   "source": [
    "submitted_item = collection.create_item(item_metadata1)\n",
    "submitted_item.add_bitstream(file_path)"
   ]
  },
  {
   "cell_type": "code",
   "execution_count": 9,
   "metadata": {},
   "outputs": [
    {
     "name": "stderr",
     "output_type": "stream",
     "text": [
      "2017-05-05 12:19:09,342 Fetching metadata in CMDI format [http://hdl.handle.net/21.T11998/3553@format=cmdi]\n"
     ]
    },
    {
     "name": "stdout",
     "output_type": "stream",
     "text": [
      "Item handle: [http://hdl.handle.net/21.T11998/3553]\n",
      "[{u'data': {u'format': u'string',\n",
      "            u'value': u'https://rda-summerschool.csc.fi/repository/xmlui/handle/21.T11998/3553'},\n",
      "  u'index': 1,\n",
      "  u'timestamp': u'2017-05-05T10:13:38Z',\n",
      "  u'ttl': 86400,\n",
      "  u'type': u'URL'},\n",
      " {u'data': {u'format': u'string', u'value': u'Item 1 through REST'},\n",
      "  u'index': 2,\n",
      "  u'timestamp': u'2017-05-05T10:13:38Z',\n",
      "  u'ttl': 86400,\n",
      "  u'type': u'TITLE'},\n",
      " {u'data': {u'format': u'string',\n",
      "            u'value': u'RDA CLARIN-DSPACE installation'},\n",
      "  u'index': 3,\n",
      "  u'timestamp': u'2017-05-05T10:13:38Z',\n",
      "  u'ttl': 86400,\n",
      "  u'type': u'REPOSITORY'},\n",
      " {u'data': {u'format': u'string', u'value': u'misutka@ufal.mff.cuni.cz'},\n",
      "  u'index': 4,\n",
      "  u'timestamp': u'2017-05-05T10:13:38Z',\n",
      "  u'ttl': 86400,\n",
      "  u'type': u'REPORTEMAIL'},\n",
      " {u'data': {u'format': u'admin',\n",
      "            u'value': {u'handle': u'21.PERS/0000-0011-2D9D-B',\n",
      "                       u'index': 300,\n",
      "                       u'permissions': u'011111110011'}},\n",
      "  u'index': 100,\n",
      "  u'timestamp': u'2017-05-05T10:13:38Z',\n",
      "  u'ttl': 86400,\n",
      "  u'type': u'HS_ADMIN'}]\n"
     ]
    },
    {
     "name": "stderr",
     "output_type": "stream",
     "text": [
      "2017-05-05 12:19:10,157 Found [1] bitstreams elements in ResourceProxy elements\n",
      "2017-05-05 12:19:10,157 Found\n",
      " 0. https://rda-summerschool.csc.fi/repository/xmlui/bitstream/handle/21.T11998/3553/file.csv?sequence=-1 [application/octet-stream]\n"
     ]
    },
    {
     "data": {
      "text/plain": [
       "[('application/octet-stream',\n",
       "  'https://rda-summerschool.csc.fi/repository/xmlui/bitstream/handle/21.T11998/3553/file.csv?sequence=-1')]"
      ]
     },
     "execution_count": 9,
     "metadata": {},
     "output_type": "execute_result"
    }
   ],
   "source": [
    "handle_url = \"http://hdl.handle.net/\" + submitted_item.handle\n",
    "print(\"Item handle: [%s]\" % handle_url)\n",
    "h = clarindspace.handle(handle_url)\n",
    "print(pformat(h.handle_metadata(True)))\n",
    "\n",
    "clarindspace.item.bitstream_info_from_pid(handle_url)"
   ]
  }
 ],
 "metadata": {
  "kernelspec": {
   "display_name": "Python 2",
   "language": "python",
   "name": "python2"
  },
  "language_info": {
   "codemirror_mode": {
    "name": "ipython",
    "version": 2
   },
   "file_extension": ".py",
   "mimetype": "text/x-python",
   "name": "python",
   "nbconvert_exporter": "python",
   "pygments_lexer": "ipython2",
   "version": "2.7.8"
  }
 },
 "nbformat": 4,
 "nbformat_minor": 2
}
