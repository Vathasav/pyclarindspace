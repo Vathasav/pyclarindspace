{
 "cells": [
  {
   "cell_type": "markdown",
   "metadata": {},
   "source": [
    "# Fetch bitstream using PID example"
   ]
  },
  {
   "cell_type": "code",
   "execution_count": 8,
   "metadata": {
    "collapsed": true
   },
   "outputs": [],
   "source": [
    "import clarindspace\n",
    "import urllib\n",
    "import csv\n",
    "import os\n",
    "import json\n",
    "import logging\n",
    "from pprint import pformat\n",
    "from __future__ import print_function\n",
    "\n",
    "logging.basicConfig(format='%(asctime)s %(message)s', level=logging.INFO)"
   ]
  },
  {
   "cell_type": "code",
   "execution_count": 4,
   "metadata": {},
   "outputs": [],
   "source": [
    "def plot(arr):\n",
    "    \"\"\"\n",
    "        Just testing one way of visualisation.\n",
    "    \"\"\"\n",
    "    import pandas as pd\n",
    "    from matplotlib import pyplot as plt\n",
    "    from math import radians\n",
    "\n",
    "    fig = plt.figure()\n",
    "    ax = fig.add_subplot(111, polar=True)\n",
    "    ax.scatter(x=[radians(float(deg)) for _1, deg in arr], y=[1] * len(arr))\n",
    "    ax.set_theta_zero_location('N')\n",
    "    ax.set_theta_direction(-1)\n",
    "    plt.show()"
   ]
  },
  {
   "cell_type": "code",
   "execution_count": 6,
   "metadata": {},
   "outputs": [
    {
     "ename": "SyntaxError",
     "evalue": "invalid syntax (<ipython-input-6-4bcfc4090c73>, line 13)",
     "output_type": "error",
     "traceback": [
      "\u001b[1;36m  File \u001b[1;32m\"<ipython-input-6-4bcfc4090c73>\"\u001b[1;36m, line \u001b[1;32m13\u001b[0m\n\u001b[1;33m    print row\u001b[0m\n\u001b[1;37m            ^\u001b[0m\n\u001b[1;31mSyntaxError\u001b[0m\u001b[1;31m:\u001b[0m invalid syntax\n"
     ]
    }
   ],
   "source": [
    "# PID to a clarin-dspace repository\n",
    "# - metadata attached to the PID at http://hdl.handle.net/11346/TEST--HGGA?noredirect\n",
    "pid_url = \"http://hdl.handle.net/11346/TEST--HGGA\"\n",
    "\n",
    "# get urls to all bitstreams \n",
    "show_n = 10\n",
    "for bitstream_mimetype, bitstream_url in clarindspace.item.bitstream_info_from_pid(pid_url, mimetype=\"text/csv\"):\n",
    "    print(\"Fetching [%s]\" % bitstream_url)\n",
    "    data_csv = csv.reader(urllib.urlopen(bitstream_url))\n",
    "    data_csv = [ [x.strip() for x in line] for line in data_csv ]\n",
    "    print(\"Number of rows (with header): %8d\" % len(data_csv))\n",
    "    for i, row in enumerate(data_csv):\n",
    "        print(row)\n",
    "        if i > show_n:\n",
    "            break\n",
    "\n",
    "plot(data_csv[1:3000])"
   ]
  }
 ],
 "metadata": {
  "kernelspec": {
   "display_name": "Python 2",
   "language": "python",
   "name": "python2"
  },
  "language_info": {
   "codemirror_mode": {
    "name": "ipython",
    "version": 2
   },
   "file_extension": ".py",
   "mimetype": "text/x-python",
   "name": "python",
   "nbconvert_exporter": "python",
   "pygments_lexer": "ipython2",
   "version": "2.7.8"
  }
 },
 "nbformat": 4,
 "nbformat_minor": 2
}
